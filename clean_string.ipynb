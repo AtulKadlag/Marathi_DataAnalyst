{
 "cells": [
  {
   "cell_type": "code",
   "execution_count": 21,
   "id": "f98947ed",
   "metadata": {},
   "outputs": [
    {
     "name": "stdout",
     "output_type": "stream",
     "text": [
      "            Name    Region  Location Favorite Color\n",
      "0  Ramesh, Patil  Region A    NASHIK        green  \n",
      "1   Raja, Sharma  Region A  BANGLORE            red\n",
      "2   Sachin, Kale  Region B    MUMBAI         yellow\n",
      "3    Vasu, Patel  Region C   Chennai           blue\n",
      "4   Aravind, Roy  Region D   KOLKATA       purple  \n"
     ]
    }
   ],
   "source": [
    "import pandas as pd\n",
    "df = pd.DataFrame.from_dict({\n",
    "    'Name': ['Ramesh, Patil', 'Raja, Sharma', 'Sachin, Kale', 'Vasu, Patel', 'Aravind, Roy'],\n",
    "    'Region': ['Region A', 'Region A', 'Region B', 'Region C', 'Region D'],\n",
    "    'Location': ['NASHIK', 'BANGLORE', 'MUMBAI', 'Chennai', 'KOLKATA'],\n",
    "    'Favorite Color': ['   green  ', 'red', '  yellow', 'blue', 'purple  ']\n",
    "})\n",
    "\n",
    "print(df)\n"
   ]
  },
  {
   "cell_type": "code",
   "execution_count": 23,
   "id": "729e18b5",
   "metadata": {},
   "outputs": [
    {
     "name": "stdout",
     "output_type": "stream",
     "text": [
      "            Name    Region  Location Favorite Color\n",
      "0  Ramesh, Patil  Region A    NASHIK          green\n",
      "1   Raja, Sharma  Region A  BANGLORE            red\n",
      "2   Sachin, Kale  Region B    MUMBAI         yellow\n",
      "3    Vasu, Patel  Region C   Chennai           blue\n",
      "4   Aravind, Roy  Region D   KOLKATA         purple\n"
     ]
    }
   ],
   "source": [
    "# Trimming Whitespace from a Pandas Column\n",
    "df['Favorite Color'] = df['Favorite Color'].str.strip()\n",
    "\n",
    "print(df)"
   ]
  },
  {
   "cell_type": "code",
   "execution_count": 17,
   "id": "9a8fd2cf",
   "metadata": {},
   "outputs": [
    {
     "name": "stdout",
     "output_type": "stream",
     "text": [
      "0    [Ramesh,  Patil]\n",
      "1     [Raja,  Sharma]\n",
      "2     [Sachin,  Kale]\n",
      "3      [Vasu,  Patel]\n",
      "4     [Aravind,  Roy]\n",
      "Name: Name, dtype: object\n"
     ]
    }
   ],
   "source": [
    "# Applying .split on a column\n",
    "print(df['Name'].str.split(','))"
   ]
  },
  {
   "cell_type": "code",
   "execution_count": 18,
   "id": "f11efb1a",
   "metadata": {},
   "outputs": [
    {
     "name": "stdout",
     "output_type": "stream",
     "text": [
      "            Name    Region  Location Favorite Color First Name Last Name\n",
      "0  Ramesh, Patil  Region A    NASHIK          green     Ramesh     Patil\n",
      "1   Raja, Sharma  Region A  BANGLORE            red       Raja    Sharma\n",
      "2   Sachin, Kale  Region B    MUMBAI         yellow     Sachin      Kale\n",
      "3    Vasu, Patel  Region C   Chennai           blue       Vasu     Patel\n",
      "4   Aravind, Roy  Region D   KOLKATA         purple    Aravind       Roy\n"
     ]
    }
   ],
   "source": [
    "# Splitting a Column into Two Columns\n",
    "df[['First Name', 'Last Name']] = df['Name'].str.split(',', expand=True)\n",
    "print(df)\n"
   ]
  },
  {
   "cell_type": "code",
   "execution_count": 19,
   "id": "480e3ef4",
   "metadata": {},
   "outputs": [
    {
     "name": "stdout",
     "output_type": "stream",
     "text": [
      "            Name Region  Location Favorite Color First Name Last Name\n",
      "0  Ramesh, Patil      A    NASHIK          green     Ramesh     Patil\n",
      "1   Raja, Sharma      A  BANGLORE            red       Raja    Sharma\n",
      "2   Sachin, Kale      B    MUMBAI         yellow     Sachin      Kale\n",
      "3    Vasu, Patel      C   Chennai           blue       Vasu     Patel\n",
      "4   Aravind, Roy      D   KOLKATA         purple    Aravind       Roy\n"
     ]
    }
   ],
   "source": [
    "# Replacing a Substring in Pandas\n",
    "df['Region'] = df['Region'].str.replace('Region ', '')\n",
    "print(df)"
   ]
  },
  {
   "cell_type": "code",
   "execution_count": 20,
   "id": "6f300c60",
   "metadata": {},
   "outputs": [
    {
     "name": "stdout",
     "output_type": "stream",
     "text": [
      "            Name Region  Location Favorite Color First Name Last Name\n",
      "0  Ramesh, Patil      A    Nashik          green     Ramesh     Patil\n",
      "1   Raja, Sharma      A  Banglore            red       Raja    Sharma\n",
      "2   Sachin, Kale      B    Mumbai         yellow     Sachin      Kale\n",
      "3    Vasu, Patel      C   Chennai           blue       Vasu     Patel\n",
      "4   Aravind, Roy      D   Kolkata         purple    Aravind       Roy\n"
     ]
    }
   ],
   "source": [
    "# Changing Text to Title Case in Pandas\n",
    "df['Location'] = df['Location'].str.title()\n",
    "print(df)"
   ]
  },
  {
   "cell_type": "code",
   "execution_count": null,
   "id": "811bc9a0",
   "metadata": {},
   "outputs": [],
   "source": []
  }
 ],
 "metadata": {
  "kernelspec": {
   "display_name": "Python 3 (ipykernel)",
   "language": "python",
   "name": "python3"
  },
  "language_info": {
   "codemirror_mode": {
    "name": "ipython",
    "version": 3
   },
   "file_extension": ".py",
   "mimetype": "text/x-python",
   "name": "python",
   "nbconvert_exporter": "python",
   "pygments_lexer": "ipython3",
   "version": "3.9.13"
  }
 },
 "nbformat": 4,
 "nbformat_minor": 5
}
