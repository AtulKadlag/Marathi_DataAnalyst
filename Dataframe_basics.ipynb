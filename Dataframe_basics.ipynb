{
 "cells": [
  {
   "cell_type": "code",
   "execution_count": 3,
   "id": "48cfd680",
   "metadata": {},
   "outputs": [
    {
     "name": "stdout",
     "output_type": "stream",
     "text": [
      "       Name  Age      City\n",
      "0      Anil   28  Kolhapur\n",
      "1    Ramesh   34    Nashik\n",
      "2     Srini   29   Chennai\n",
      "3  Jatinder   32     Noida\n"
     ]
    }
   ],
   "source": [
    "#Example: Creating a DataFrame from a dictionary\n",
    "import pandas as pd\n",
    "\n",
    "#dictionary - Key & value\n",
    "data = {\n",
    "    'Name': ['Anil', 'Ramesh', 'Srini', 'Jatinder'],\n",
    "    'Age': [28, 34, 29, 32],\n",
    "    'City': ['Kolhapur', 'Nashik', 'Chennai', 'Noida']\n",
    "}\n",
    "\n",
    "#print(data)\n",
    "\n",
    "\n",
    "df = pd.DataFrame(data)\n",
    "\n",
    "print(df)\n"
   ]
  },
  {
   "cell_type": "code",
   "execution_count": 8,
   "id": "0db0f62b",
   "metadata": {},
   "outputs": [
    {
     "name": "stdout",
     "output_type": "stream",
     "text": [
      "       Name  Age      City\n",
      "0      Anil   28  Kolhapur\n",
      "1    Ramesh   34    Nashik\n",
      "2     Srini   29   Chennai\n",
      "3  Jatinder   32     Noida\n",
      "     Name  Age      City\n",
      "0    Anil   28  Kolhapur\n",
      "1  Ramesh   34    Nashik\n",
      "             Age\n",
      "count   4.000000\n",
      "mean   30.750000\n",
      "std     2.753785\n",
      "min    28.000000\n",
      "25%    28.750000\n",
      "50%    30.500000\n",
      "75%    32.500000\n",
      "max    34.000000\n"
     ]
    }
   ],
   "source": [
    "#viewing and describing data\n",
    "\n",
    "# Viewing the first few rows\n",
    "#print(df)\n",
    "\n",
    "print(df.head())   #display first 5 records\n",
    "print(df.head(2))   #display first 2 records\n",
    "\n",
    "# Describing data (summary statistics)\n",
    "\n",
    "print(df.describe()) \n"
   ]
  },
  {
   "cell_type": "code",
   "execution_count": 12,
   "id": "e6afd515",
   "metadata": {},
   "outputs": [
    {
     "name": "stdout",
     "output_type": "stream",
     "text": [
      "0        Anil\n",
      "1      Ramesh\n",
      "2       Srini\n",
      "3    Jatinder\n",
      "Name: Name, dtype: object\n",
      "       Name  Age\n",
      "0      Anil   28\n",
      "1    Ramesh   34\n",
      "2     Srini   29\n",
      "3  Jatinder   32\n",
      "Name    Ramesh\n",
      "Age         34\n",
      "City    Nashik\n",
      "Name: 1, dtype: object\n",
      "Name    Jatinder\n",
      "Age           32\n",
      "City       Noida\n",
      "Name: 3, dtype: object\n"
     ]
    }
   ],
   "source": [
    "#Accessing Data in DataFrames\n",
    "\n",
    "# Accessing a single column\n",
    "print(df['Name'])\n",
    "\n",
    "# Accessing multiple columns\n",
    "print(df[['Name', 'Age']])\n",
    "\n",
    "# Accessing rows by position\n",
    "print(df.iloc[1])\n",
    "\n",
    "# Accessing rows by label with loc (if you have set an index)\n",
    "# print(df.loc['some_label'])\n",
    "\n",
    "\n",
    "print(df.iloc[3])"
   ]
  },
  {
   "cell_type": "code",
   "execution_count": 15,
   "id": "2d154a73",
   "metadata": {},
   "outputs": [
    {
     "name": "stdout",
     "output_type": "stream",
     "text": [
      "       Name  Age      City Employed\n",
      "0      Anil   28  Kolhapur      Yes\n",
      "1    Ramesh   34    Nashik       No\n",
      "2     Srini   29   Chennai      Yes\n",
      "3  Jatinder   32     Noida       No\n",
      "after adding  a column \n",
      "        Name  Age      City Employed\n",
      "0      Anil   28  Kolhapur      Yes\n",
      "1    Ramesh   34    Nashik       No\n",
      "2     Srini   29   Chennai      Yes\n",
      "3  Jatinder   32     Noida       No\n",
      "       Name  Age      City\n",
      "0      Anil   28  Kolhapur\n",
      "1    Ramesh   34    Nashik\n",
      "2     Srini   29   Chennai\n",
      "3  Jatinder   32     Noida\n"
     ]
    }
   ],
   "source": [
    "#modifying dataframes\n",
    "print(df)\n",
    "# Adding a new column\n",
    "df['Employed'] = ['Yes', 'No', 'Yes', 'No']\n",
    "\n",
    "print('after adding  a column \\n',df)\n",
    "\n",
    "\n",
    "\n",
    "# Removing a column\n",
    "df.drop('Employed', axis=1, inplace=True)\n",
    "\n",
    "print(df)\n",
    "\n",
    "\n"
   ]
  },
  {
   "cell_type": "code",
   "execution_count": 16,
   "id": "cd165c1f",
   "metadata": {},
   "outputs": [
    {
     "name": "stdout",
     "output_type": "stream",
     "text": [
      "       Name  Age    City\n",
      "1    Ramesh   34  Nashik\n",
      "3  Jatinder   32   Noida\n"
     ]
    }
   ],
   "source": [
    "#filtering data\n",
    "\n",
    "# Filtering data where age is greater than 30\n",
    "filtered_df = df[df['Age'] > 30]\n",
    "\n",
    "print(filtered_df)\n"
   ]
  },
  {
   "cell_type": "code",
   "execution_count": null,
   "id": "abcd1daf",
   "metadata": {},
   "outputs": [],
   "source": []
  }
 ],
 "metadata": {
  "kernelspec": {
   "display_name": "Python 3 (ipykernel)",
   "language": "python",
   "name": "python3"
  },
  "language_info": {
   "codemirror_mode": {
    "name": "ipython",
    "version": 3
   },
   "file_extension": ".py",
   "mimetype": "text/x-python",
   "name": "python",
   "nbconvert_exporter": "python",
   "pygments_lexer": "ipython3",
   "version": "3.9.13"
  }
 },
 "nbformat": 4,
 "nbformat_minor": 5
}
