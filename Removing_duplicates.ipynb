{
 "cells": [
  {
   "cell_type": "code",
   "execution_count": 2,
   "id": "4e88aaa0",
   "metadata": {},
   "outputs": [
    {
     "name": "stdout",
     "output_type": "stream",
     "text": [
      "     Name  Age  Location Date Modified\n",
      "0    Ajit   33    Nagpur    2024-01-01\n",
      "1  Ramesh   32    Nashik    2024-02-24\n",
      "2    Evan   40     Dhule    2023-08-12\n",
      "3    Kyra   57  Kolhapur    2023-09-12\n",
      "4    Ajit   33    Nagpur    2024-01-01\n",
      "5  Ramesh   32    Sangli    2024-02-24\n"
     ]
    }
   ],
   "source": [
    "# Loading a Sample Pandas DataFrame\n",
    "import pandas as pd\n",
    "df = pd.DataFrame.from_dict({\n",
    "    'Name': ['Ajit', 'Ramesh', 'Evan', 'Kyra', 'Ajit', 'Ramesh'],\n",
    "    'Age': [33, 32, 40, 57, 33, 32],\n",
    "    'Location': ['Nagpur', 'Nashik', 'Dhule', 'Kolhapur', 'Nagpur', 'Sangli'],\n",
    "    'Date Modified': ['2024-01-01', '2024-02-24', '2023-08-12', '2023-09-12', '2024-01-01', '2024-02-24']\n",
    "})\n",
    "\n",
    "print(df)"
   ]
  },
  {
   "cell_type": "code",
   "execution_count": 3,
   "id": "4b65533e",
   "metadata": {},
   "outputs": [
    {
     "name": "stdout",
     "output_type": "stream",
     "text": [
      "0    False\n",
      "1    False\n",
      "2    False\n",
      "3    False\n",
      "4     True\n",
      "5    False\n",
      "dtype: bool\n"
     ]
    }
   ],
   "source": [
    "# Identifying Duplicate Records in a Pandas DataFrame\n",
    "print(df.duplicated())\n"
   ]
  },
  {
   "cell_type": "code",
   "execution_count": 4,
   "id": "af5db457",
   "metadata": {},
   "outputs": [
    {
     "name": "stdout",
     "output_type": "stream",
     "text": [
      "1\n"
     ]
    }
   ],
   "source": [
    "# Counting Duplicate Records in a DataFrame\n",
    "print(df.duplicated().sum())"
   ]
  },
  {
   "cell_type": "code",
   "execution_count": 5,
   "id": "2fbdc173",
   "metadata": {},
   "outputs": [
    {
     "data": {
      "text/html": [
       "<div>\n",
       "<style scoped>\n",
       "    .dataframe tbody tr th:only-of-type {\n",
       "        vertical-align: middle;\n",
       "    }\n",
       "\n",
       "    .dataframe tbody tr th {\n",
       "        vertical-align: top;\n",
       "    }\n",
       "\n",
       "    .dataframe thead th {\n",
       "        text-align: right;\n",
       "    }\n",
       "</style>\n",
       "<table border=\"1\" class=\"dataframe\">\n",
       "  <thead>\n",
       "    <tr style=\"text-align: right;\">\n",
       "      <th></th>\n",
       "      <th>Name</th>\n",
       "      <th>Age</th>\n",
       "      <th>Location</th>\n",
       "      <th>Date Modified</th>\n",
       "    </tr>\n",
       "  </thead>\n",
       "  <tbody>\n",
       "    <tr>\n",
       "      <th>0</th>\n",
       "      <td>Ajit</td>\n",
       "      <td>33</td>\n",
       "      <td>Nagpur</td>\n",
       "      <td>2024-01-01</td>\n",
       "    </tr>\n",
       "    <tr>\n",
       "      <th>1</th>\n",
       "      <td>Ramesh</td>\n",
       "      <td>32</td>\n",
       "      <td>Nashik</td>\n",
       "      <td>2024-02-24</td>\n",
       "    </tr>\n",
       "    <tr>\n",
       "      <th>2</th>\n",
       "      <td>Evan</td>\n",
       "      <td>40</td>\n",
       "      <td>Dhule</td>\n",
       "      <td>2023-08-12</td>\n",
       "    </tr>\n",
       "    <tr>\n",
       "      <th>3</th>\n",
       "      <td>Kyra</td>\n",
       "      <td>57</td>\n",
       "      <td>Kolhapur</td>\n",
       "      <td>2023-09-12</td>\n",
       "    </tr>\n",
       "    <tr>\n",
       "      <th>5</th>\n",
       "      <td>Ramesh</td>\n",
       "      <td>32</td>\n",
       "      <td>Sangli</td>\n",
       "      <td>2024-02-24</td>\n",
       "    </tr>\n",
       "  </tbody>\n",
       "</table>\n",
       "</div>"
      ],
      "text/plain": [
       "     Name  Age  Location Date Modified\n",
       "0    Ajit   33    Nagpur    2024-01-01\n",
       "1  Ramesh   32    Nashik    2024-02-24\n",
       "2    Evan   40     Dhule    2023-08-12\n",
       "3    Kyra   57  Kolhapur    2023-09-12\n",
       "5  Ramesh   32    Sangli    2024-02-24"
      ]
     },
     "execution_count": 5,
     "metadata": {},
     "output_type": "execute_result"
    }
   ],
   "source": [
    "# The Pandas .drop_duplicates() method\n",
    "df.drop_duplicates(\n",
    "    subset=None,            # Which columns to consider \n",
    "    keep='first',           # Which duplicate record to keep\n",
    "    inplace=False,          # Whether to drop in place\n",
    "    ignore_index=False      # Whether to relabel the index\n",
    ")"
   ]
  },
  {
   "cell_type": "code",
   "execution_count": 6,
   "id": "31ed423c",
   "metadata": {},
   "outputs": [
    {
     "name": "stdout",
     "output_type": "stream",
     "text": [
      "     Name  Age  Location Date Modified\n",
      "0    Ajit   33    Nagpur    2024-01-01\n",
      "1  Ramesh   32    Nashik    2024-02-24\n",
      "2    Evan   40     Dhule    2023-08-12\n",
      "3    Kyra   57  Kolhapur    2023-09-12\n",
      "4    Ajit   33    Nagpur    2024-01-01\n",
      "5  Ramesh   32    Sangli    2023-12-09\n"
     ]
    }
   ],
   "source": [
    "# Loading a Sample Pandas DataFrame\n",
    "import pandas as pd\n",
    "df = pd.DataFrame.from_dict({\n",
    "    'Name': ['Ajit', 'Ramesh', 'Evan', 'Kyra', 'Ajit', 'Ramesh'],\n",
    "    'Age': [33, 32, 40, 57, 33, 32],\n",
    "    'Location': ['Nagpur', 'Nashik', 'Dhule', 'Kolhapur', 'Nagpur', 'Sangli'],\n",
    "    'Date Modified': ['2024-01-01', '2024-02-24', '2023-08-12', '2023-09-12', '2024-01-01', '2023-12-09']\n",
    "})\n",
    "\n",
    "print(df)"
   ]
  },
  {
   "cell_type": "code",
   "execution_count": 7,
   "id": "a165c08b",
   "metadata": {},
   "outputs": [
    {
     "name": "stdout",
     "output_type": "stream",
     "text": [
      "     Name  Age  Location Date Modified\n",
      "0    Ajit   33    Nagpur    2024-01-01\n",
      "1  Ramesh   32    Nashik    2024-02-24\n",
      "2    Evan   40     Dhule    2023-08-12\n",
      "3    Kyra   57  Kolhapur    2023-09-12\n",
      "5  Ramesh   32    Sangli    2023-12-09\n"
     ]
    }
   ],
   "source": [
    "\n",
    "# Dropping Duplicates with Default Arguments\n",
    "df = df.drop_duplicates()\n",
    "print(df)"
   ]
  },
  {
   "cell_type": "code",
   "execution_count": 8,
   "id": "9d49e591",
   "metadata": {},
   "outputs": [
    {
     "name": "stdout",
     "output_type": "stream",
     "text": [
      "     Name  Age  Location Date Modified\n",
      "0    Ajit   33    Nagpur    2024-01-01\n",
      "1  Ramesh   32    Nashik    2024-02-24\n",
      "2    Evan   40     Dhule    2023-08-12\n",
      "3    Kyra   57  Kolhapur    2023-09-12\n",
      "4    Ajit   33    Nagpur    2024-01-01\n",
      "5  Ramesh   32    Sangli    2023-12-09\n"
     ]
    }
   ],
   "source": [
    "# Loading a Sample Pandas DataFrame\n",
    "import pandas as pd\n",
    "df = pd.DataFrame.from_dict({\n",
    "    'Name': ['Ajit', 'Ramesh', 'Evan', 'Kyra', 'Ajit', 'Ramesh'],\n",
    "    'Age': [33, 32, 40, 57, 33, 32],\n",
    "    'Location': ['Nagpur', 'Nashik', 'Dhule', 'Kolhapur', 'Nagpur', 'Sangli'],\n",
    "    'Date Modified': ['2024-01-01', '2024-02-24', '2023-08-12', '2023-09-12', '2024-01-01', '2023-12-09']\n",
    "})\n",
    "\n",
    "print(df)"
   ]
  },
  {
   "cell_type": "code",
   "execution_count": 9,
   "id": "b2b195d3",
   "metadata": {},
   "outputs": [
    {
     "name": "stdout",
     "output_type": "stream",
     "text": [
      "     Name  Age  Location Date Modified\n",
      "1  Ramesh   32    Nashik    2024-02-24\n",
      "0    Ajit   33    Nagpur    2024-01-01\n",
      "3    Kyra   57  Kolhapur    2023-09-12\n",
      "2    Evan   40     Dhule    2023-08-12\n"
     ]
    }
   ],
   "source": [
    "# Dropping Based on a Subset of Columns\n",
    "df = df.sort_values(by='Date Modified', ascending=False)\n",
    "df = df.drop_duplicates(subset=['Name', 'Age'], keep='first')\n",
    "print(df)"
   ]
  },
  {
   "cell_type": "code",
   "execution_count": null,
   "id": "b068211e",
   "metadata": {},
   "outputs": [],
   "source": []
  }
 ],
 "metadata": {
  "kernelspec": {
   "display_name": "Python 3 (ipykernel)",
   "language": "python",
   "name": "python3"
  },
  "language_info": {
   "codemirror_mode": {
    "name": "ipython",
    "version": 3
   },
   "file_extension": ".py",
   "mimetype": "text/x-python",
   "name": "python",
   "nbconvert_exporter": "python",
   "pygments_lexer": "ipython3",
   "version": "3.9.13"
  }
 },
 "nbformat": 4,
 "nbformat_minor": 5
}
