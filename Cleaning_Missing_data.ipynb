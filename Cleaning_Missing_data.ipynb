{
 "cells": [
  {
   "cell_type": "code",
   "execution_count": 1,
   "id": "1bf218c2",
   "metadata": {
    "scrolled": true
   },
   "outputs": [
    {
     "name": "stdout",
     "output_type": "stream",
     "text": [
      "     Name   Age Location\n",
      "0    Ajay  33.0     Pune\n",
      "1    Ramu  32.0   Mumbai\n",
      "2   Kiran  40.0  Nagpura\n",
      "3  Rajesh  57.0      NaN\n",
      "4     NaN   NaN      NaN\n"
     ]
    }
   ],
   "source": [
    "# Loading a Sample Pandas DataFrame\n",
    "import pandas as pd\n",
    "import numpy as np\n",
    "\n",
    "my_dict= {\n",
    "    'Name': ['Ajay', 'Ramu', 'Kiran', 'Rajesh', np.NaN],\n",
    "    'Age': [33, 32, 40, 57, np.NaN],\n",
    "    'Location': ['Pune', 'Mumbai', 'Nagpura', np.NaN, np.NaN]\n",
    "}\n",
    "\n",
    "df = pd.DataFrame(my_dict)\n",
    "print(df)"
   ]
  },
  {
   "cell_type": "code",
   "execution_count": 2,
   "id": "50369ec9",
   "metadata": {},
   "outputs": [
    {
     "name": "stdout",
     "output_type": "stream",
     "text": [
      "    Name    Age  Location\n",
      "0  False  False     False\n",
      "1  False  False     False\n",
      "2  False  False     False\n",
      "3  False  False      True\n",
      "4   True   True      True\n"
     ]
    }
   ],
   "source": [
    "# Exploring the .isnull() method\n",
    "print(df.isnull())"
   ]
  },
  {
   "cell_type": "code",
   "execution_count": 3,
   "id": "02ca39f9",
   "metadata": {},
   "outputs": [
    {
     "name": "stdout",
     "output_type": "stream",
     "text": [
      "Name        1\n",
      "Age         1\n",
      "Location    2\n",
      "dtype: int64\n"
     ]
    }
   ],
   "source": [
    "#counting missing values\n",
    "print(df.isnull().sum())\n"
   ]
  },
  {
   "cell_type": "code",
   "execution_count": 4,
   "id": "bb33edb3",
   "metadata": {},
   "outputs": [
    {
     "name": "stdout",
     "output_type": "stream",
     "text": [
      "     Name   Age Location\n",
      "0    Ajay  33.0     Pune\n",
      "1    Ramu  32.0   Mumbai\n",
      "2   Kiran  40.0  Nagpura\n",
      "3  Rajesh  57.0      NaN\n",
      "4     NaN   NaN      NaN\n"
     ]
    }
   ],
   "source": [
    "# Exploring the Pandas .dropna() method\n",
    "df.dropna(\n",
    "    axis=0,         # Whether to drop rows or columns\n",
    "    how='any',      # Whether to drop records if 'all' or 'any' records are missing\n",
    "    thresh=None,    # How many columns/rows must be missing to drop\n",
    "    subset=None,    # Which rows/columns to consider\n",
    "    inplace=False   # Whether to drop in place (i.e., without needing to re-assign)\n",
    ")\n",
    "print(df)"
   ]
  },
  {
   "cell_type": "code",
   "execution_count": 5,
   "id": "3d4ff648",
   "metadata": {},
   "outputs": [
    {
     "name": "stdout",
     "output_type": "stream",
     "text": [
      "    Name   Age Location\n",
      "0   Ajay  33.0     Pune\n",
      "1   Ramu  32.0   Mumbai\n",
      "2  Kiran  40.0  Nagpura\n"
     ]
    }
   ],
   "source": [
    "df = df.dropna(\n",
    "    axis=0,         # Whether to drop rows or columns\n",
    "    how='any',      # Whether to drop records if 'all' or 'any' records are missing\n",
    "    thresh=None,    # How many columns/rows must be missing to drop\n",
    "    subset=None,    # Which rows/columns to consider\n",
    "    inplace=False   # Whether to drop in place (i.e., without needing to re-assign)\n",
    ")\n",
    "print(df)"
   ]
  },
  {
   "cell_type": "code",
   "execution_count": null,
   "id": "3cf67677",
   "metadata": {},
   "outputs": [],
   "source": []
  },
  {
   "cell_type": "code",
   "execution_count": 6,
   "id": "d0207536",
   "metadata": {},
   "outputs": [
    {
     "name": "stdout",
     "output_type": "stream",
     "text": [
      "     Name   Age Location\n",
      "0    Ajay  33.0     Pune\n",
      "1    Ramu  32.0   Mumbai\n",
      "2   Kiran  40.0  Nagpura\n",
      "3  Rajesh  57.0      NaN\n",
      "4     NaN   NaN      NaN\n"
     ]
    }
   ],
   "source": [
    "# Loading a Sample Pandas DataFrame\n",
    "import pandas as pd\n",
    "import numpy as np\n",
    "\n",
    "my_dict= {\n",
    "    'Name': ['Ajay', 'Ramu', 'Kiran', 'Rajesh', np.NaN],\n",
    "    'Age': [33, 32, 40, 57, np.NaN],\n",
    "    'Location': ['Pune', 'Mumbai', 'Nagpura', np.NaN, np.NaN]\n",
    "}\n",
    "\n",
    "df = pd.DataFrame(my_dict)\n",
    "print(df)"
   ]
  },
  {
   "cell_type": "code",
   "execution_count": 7,
   "id": "58f329ce",
   "metadata": {},
   "outputs": [
    {
     "name": "stdout",
     "output_type": "stream",
     "text": [
      "     Name   Age Location\n",
      "0    Ajay  33.0     Pune\n",
      "1    Ramu  32.0   Mumbai\n",
      "2   Kiran  40.0  Nagpura\n",
      "3  Rajesh  57.0      NaN\n"
     ]
    }
   ],
   "source": [
    "# Dropping Records Only if All Records are Missing\n",
    "df = df.dropna(how='all')\n",
    "print(df)"
   ]
  },
  {
   "cell_type": "code",
   "execution_count": 8,
   "id": "1081ad3e",
   "metadata": {},
   "outputs": [
    {
     "name": "stdout",
     "output_type": "stream",
     "text": [
      "    Name   Age Location\n",
      "0   Ajay  33.0     Pune\n",
      "1   Ramu  32.0   Mumbai\n",
      "2  Kiran  40.0  Nagpura\n"
     ]
    }
   ],
   "source": [
    "# Dropping Values with Default Arguments\n",
    "df = df.dropna()\n",
    "print(df)"
   ]
  },
  {
   "cell_type": "code",
   "execution_count": 10,
   "id": "382843b0",
   "metadata": {},
   "outputs": [
    {
     "name": "stdout",
     "output_type": "stream",
     "text": [
      "     Name   Age Location\n",
      "0    Ajay  33.0     Pune\n",
      "1    Ramu  32.0   Mumbai\n",
      "2   Kiran  40.0  Nagpura\n",
      "3  Rajesh  57.0      NaN\n",
      "4     NaN   NaN      NaN\n"
     ]
    }
   ],
   "source": [
    "df_empty = df[0:0]\n",
    "\n",
    "my_dict= {\n",
    "    'Name': ['Ajay', 'Ramu', 'Kiran', 'Rajesh', np.NaN],\n",
    "    'Age': [33, 32, 40, 57, np.NaN],\n",
    "    'Location': ['Pune', 'Mumbai', 'Nagpura', np.NaN, np.NaN]\n",
    "}\n",
    "\n",
    "df = pd.DataFrame(my_dict)\n",
    "print(df)\n"
   ]
  },
  {
   "cell_type": "code",
   "execution_count": 11,
   "id": "0d0cba24",
   "metadata": {},
   "outputs": [
    {
     "name": "stdout",
     "output_type": "stream",
     "text": [
      "     Name   Age Location\n",
      "0    Ajay  33.0     Pune\n",
      "1    Ramu  32.0   Mumbai\n",
      "2   Kiran  40.0  Nagpura\n",
      "3  Rajesh  57.0        0\n",
      "4       0   0.0        0\n"
     ]
    }
   ],
   "source": [
    "\n",
    "# Using .fillna() to Fill Missing Data\n",
    "df = df.fillna(0)\n",
    "print(df)"
   ]
  },
  {
   "cell_type": "code",
   "execution_count": 13,
   "id": "e22959f8",
   "metadata": {},
   "outputs": [
    {
     "name": "stdout",
     "output_type": "stream",
     "text": [
      "     Name   Age Location\n",
      "0    Ajay  33.0     Pune\n",
      "1    Ramu  32.0   Mumbai\n",
      "2   Kiran  40.0  Nagpura\n",
      "3  Rajesh  57.0      NaN\n",
      "4     NaN   NaN      NaN\n"
     ]
    }
   ],
   "source": [
    "df_empty = df[0:0]\n",
    "\n",
    "my_dict= {\n",
    "    'Name': ['Ajay', 'Ramu', 'Kiran', 'Rajesh', np.NaN],\n",
    "    'Age': [33, 32, 40, 57, np.NaN],\n",
    "    'Location': ['Pune', 'Mumbai', 'Nagpura', np.NaN, np.NaN]\n",
    "}\n",
    "\n",
    "df = pd.DataFrame(my_dict)\n",
    "\n",
    "print(df)"
   ]
  },
  {
   "cell_type": "code",
   "execution_count": 14,
   "id": "2b3f55df",
   "metadata": {},
   "outputs": [
    {
     "name": "stdout",
     "output_type": "stream",
     "text": [
      "     Name   Age Location\n",
      "0    Ajay  33.0     Pune\n",
      "1    Ramu  32.0   Mumbai\n",
      "2   Kiran  40.0  Nagpura\n",
      "3  Rajesh  57.0    India\n",
      "4  Sachin  35.0    India\n"
     ]
    }
   ],
   "source": [
    "# Filling Columns with Different Values\n",
    "df = df.fillna({'Name': 'Sachin', 'Age': 35, 'Location': 'India'})\n",
    "print(df)"
   ]
  },
  {
   "cell_type": "code",
   "execution_count": 15,
   "id": "645f268d",
   "metadata": {},
   "outputs": [
    {
     "name": "stdout",
     "output_type": "stream",
     "text": [
      "     Name   Age Location\n",
      "0    Ajay  33.0     Pune\n",
      "1    Ramu  32.0   Mumbai\n",
      "2   Kiran  40.0  Nagpura\n",
      "3  Rajesh  57.0      NaN\n",
      "4     NaN   NaN      NaN\n"
     ]
    }
   ],
   "source": [
    "df_empty = df[0:0]\n",
    "\n",
    "my_dict= {\n",
    "    'Name': ['Ajay', 'Ramu', 'Kiran', 'Rajesh', np.NaN],\n",
    "    'Age': [33, 32, 40, 57, np.NaN],\n",
    "    'Location': ['Pune', 'Mumbai', 'Nagpura', np.NaN, np.NaN]\n",
    "}\n",
    "df = pd.DataFrame(my_dict)\n",
    "print(df)"
   ]
  },
  {
   "cell_type": "code",
   "execution_count": 16,
   "id": "30c80e31",
   "metadata": {},
   "outputs": [
    {
     "data": {
      "text/plain": [
       "40.5"
      ]
     },
     "execution_count": 16,
     "metadata": {},
     "output_type": "execute_result"
    }
   ],
   "source": [
    "df['Age'].mean()"
   ]
  },
  {
   "cell_type": "code",
   "execution_count": 17,
   "id": "d2087db2",
   "metadata": {},
   "outputs": [
    {
     "name": "stdout",
     "output_type": "stream",
     "text": [
      "     Name   Age Location\n",
      "0    Ajay  33.0     Pune\n",
      "1    Ramu  32.0   Mumbai\n",
      "2   Kiran  40.0  Nagpura\n",
      "3  Rajesh  57.0      NaN\n",
      "4     NaN  40.5      NaN\n"
     ]
    }
   ],
   "source": [
    "# Imputing a Missing Value\n",
    "df['Age'] = df['Age'].fillna(df['Age'].mean())\n",
    "print(df)"
   ]
  },
  {
   "cell_type": "code",
   "execution_count": 24,
   "id": "f567ba89",
   "metadata": {},
   "outputs": [
    {
     "ename": "ValueError",
     "evalue": "The truth value of a Series is ambiguous. Use a.empty, a.bool(), a.item(), a.any() or a.all().",
     "output_type": "error",
     "traceback": [
      "\u001b[1;31m---------------------------------------------------------------------------\u001b[0m",
      "\u001b[1;31mValueError\u001b[0m                                Traceback (most recent call last)",
      "\u001b[1;32m~\\AppData\\Local\\Temp\\ipykernel_15048\\3258610783.py\u001b[0m in \u001b[0;36m<module>\u001b[1;34m\u001b[0m\n\u001b[1;32m----> 1\u001b[1;33m \u001b[1;32mif\u001b[0m \u001b[1;33m(\u001b[0m\u001b[0mdf\u001b[0m\u001b[1;33m[\u001b[0m\u001b[1;34m'Name'\u001b[0m\u001b[1;33m]\u001b[0m \u001b[1;33m==\u001b[0m \u001b[1;34m'Rajesh'\u001b[0m\u001b[1;33m)\u001b[0m\u001b[1;33m:\u001b[0m\u001b[1;33m\u001b[0m\u001b[1;33m\u001b[0m\u001b[0m\n\u001b[0m\u001b[0;32m      2\u001b[0m     \u001b[0mdf\u001b[0m\u001b[1;33m[\u001b[0m\u001b[1;34m'Location'\u001b[0m\u001b[1;33m]\u001b[0m\u001b[1;33m=\u001b[0m \u001b[1;34m'Sangli'\u001b[0m\u001b[1;33m\u001b[0m\u001b[1;33m\u001b[0m\u001b[0m\n",
      "\u001b[1;32m~\\Anaconda3\\lib\\site-packages\\pandas\\core\\generic.py\u001b[0m in \u001b[0;36m__nonzero__\u001b[1;34m(self)\u001b[0m\n\u001b[0;32m   1525\u001b[0m     \u001b[1;33m@\u001b[0m\u001b[0mfinal\u001b[0m\u001b[1;33m\u001b[0m\u001b[1;33m\u001b[0m\u001b[0m\n\u001b[0;32m   1526\u001b[0m     \u001b[1;32mdef\u001b[0m \u001b[0m__nonzero__\u001b[0m\u001b[1;33m(\u001b[0m\u001b[0mself\u001b[0m\u001b[1;33m)\u001b[0m\u001b[1;33m:\u001b[0m\u001b[1;33m\u001b[0m\u001b[1;33m\u001b[0m\u001b[0m\n\u001b[1;32m-> 1527\u001b[1;33m         raise ValueError(\n\u001b[0m\u001b[0;32m   1528\u001b[0m             \u001b[1;34mf\"The truth value of a {type(self).__name__} is ambiguous. \"\u001b[0m\u001b[1;33m\u001b[0m\u001b[1;33m\u001b[0m\u001b[0m\n\u001b[0;32m   1529\u001b[0m             \u001b[1;34m\"Use a.empty, a.bool(), a.item(), a.any() or a.all().\"\u001b[0m\u001b[1;33m\u001b[0m\u001b[1;33m\u001b[0m\u001b[0m\n",
      "\u001b[1;31mValueError\u001b[0m: The truth value of a Series is ambiguous. Use a.empty, a.bool(), a.item(), a.any() or a.all()."
     ]
    }
   ],
   "source": [
    "if (df['Name'] == 'Rajesh'):\n",
    "    df['Location']= 'Sangli'\n"
   ]
  },
  {
   "cell_type": "code",
   "execution_count": null,
   "id": "5aed19c8",
   "metadata": {},
   "outputs": [],
   "source": []
  },
  {
   "cell_type": "code",
   "execution_count": null,
   "id": "5efbae05",
   "metadata": {},
   "outputs": [],
   "source": []
  }
 ],
 "metadata": {
  "kernelspec": {
   "display_name": "Python 3 (ipykernel)",
   "language": "python",
   "name": "python3"
  },
  "language_info": {
   "codemirror_mode": {
    "name": "ipython",
    "version": 3
   },
   "file_extension": ".py",
   "mimetype": "text/x-python",
   "name": "python",
   "nbconvert_exporter": "python",
   "pygments_lexer": "ipython3",
   "version": "3.9.13"
  }
 },
 "nbformat": 4,
 "nbformat_minor": 5
}
