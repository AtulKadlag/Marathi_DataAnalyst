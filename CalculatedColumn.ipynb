{
 "cells": [
  {
   "cell_type": "code",
   "execution_count": 16,
   "id": "0344176b",
   "metadata": {},
   "outputs": [
    {
     "name": "stdout",
     "output_type": "stream",
     "text": [
      "          Date  ProductID  Quantity  UnitPrice\n",
      "0   01-01-2022       1044        18      19.47\n",
      "1   02-01-2022       1047         6      92.78\n",
      "2   03-01-2022       1064        10      74.42\n",
      "3   04-01-2022       1067         4      99.89\n",
      "4   05-01-2022       1067         1      23.87\n",
      "..         ...        ...       ...        ...\n",
      "95  06-04-2022       1023        13      21.02\n",
      "96  07-04-2022       1079         7      56.80\n",
      "97  08-04-2022       1013         4      22.32\n",
      "98  09-04-2022       1085         6      74.65\n",
      "99  10-04-2022       1048        12      45.94\n",
      "\n",
      "[100 rows x 4 columns]\n"
     ]
    },
    {
     "data": {
      "text/html": [
       "<div>\n",
       "<style scoped>\n",
       "    .dataframe tbody tr th:only-of-type {\n",
       "        vertical-align: middle;\n",
       "    }\n",
       "\n",
       "    .dataframe tbody tr th {\n",
       "        vertical-align: top;\n",
       "    }\n",
       "\n",
       "    .dataframe thead th {\n",
       "        text-align: right;\n",
       "    }\n",
       "</style>\n",
       "<table border=\"1\" class=\"dataframe\">\n",
       "  <thead>\n",
       "    <tr style=\"text-align: right;\">\n",
       "      <th></th>\n",
       "      <th>Date</th>\n",
       "      <th>ProductID</th>\n",
       "      <th>Quantity</th>\n",
       "      <th>UnitPrice</th>\n",
       "    </tr>\n",
       "  </thead>\n",
       "  <tbody>\n",
       "    <tr>\n",
       "      <th>0</th>\n",
       "      <td>01-01-2022</td>\n",
       "      <td>1044</td>\n",
       "      <td>18</td>\n",
       "      <td>19.47</td>\n",
       "    </tr>\n",
       "    <tr>\n",
       "      <th>1</th>\n",
       "      <td>02-01-2022</td>\n",
       "      <td>1047</td>\n",
       "      <td>6</td>\n",
       "      <td>92.78</td>\n",
       "    </tr>\n",
       "    <tr>\n",
       "      <th>2</th>\n",
       "      <td>03-01-2022</td>\n",
       "      <td>1064</td>\n",
       "      <td>10</td>\n",
       "      <td>74.42</td>\n",
       "    </tr>\n",
       "    <tr>\n",
       "      <th>3</th>\n",
       "      <td>04-01-2022</td>\n",
       "      <td>1067</td>\n",
       "      <td>4</td>\n",
       "      <td>99.89</td>\n",
       "    </tr>\n",
       "    <tr>\n",
       "      <th>4</th>\n",
       "      <td>05-01-2022</td>\n",
       "      <td>1067</td>\n",
       "      <td>1</td>\n",
       "      <td>23.87</td>\n",
       "    </tr>\n",
       "  </tbody>\n",
       "</table>\n",
       "</div>"
      ],
      "text/plain": [
       "         Date  ProductID  Quantity  UnitPrice\n",
       "0  01-01-2022       1044        18      19.47\n",
       "1  02-01-2022       1047         6      92.78\n",
       "2  03-01-2022       1064        10      74.42\n",
       "3  04-01-2022       1067         4      99.89\n",
       "4  05-01-2022       1067         1      23.87"
      ]
     },
     "execution_count": 16,
     "metadata": {},
     "output_type": "execute_result"
    }
   ],
   "source": [
    "import pandas as pd\n",
    "\n",
    "data = pd.read_csv('sales_data.csv')\n",
    "print(data)\n",
    "data.head()"
   ]
  },
  {
   "cell_type": "code",
   "execution_count": null,
   "id": "7298b4cf",
   "metadata": {},
   "outputs": [],
   "source": []
  },
  {
   "cell_type": "code",
   "execution_count": 9,
   "id": "8ffb7de4",
   "metadata": {},
   "outputs": [],
   "source": [
    "df=pd.DataFrame(data)"
   ]
  },
  {
   "cell_type": "raw",
   "id": "e68d1f27",
   "metadata": {},
   "source": [
    "df\n",
    "df.head()\n",
    "df.shape\n",
    "df.describe()\n",
    "df['revenue'] =  df['Quantity'] * df['UnitPrice']\n",
    "df.to_excel('sales_data_outpute.xlsx')"
   ]
  },
  {
   "cell_type": "code",
   "execution_count": 27,
   "id": "ef0b1aeb",
   "metadata": {},
   "outputs": [
    {
     "name": "stdout",
     "output_type": "stream",
     "text": [
      "C:\\Users\\AtulKadlag\\Desktop\\PythonProjects\n"
     ]
    }
   ],
   "source": [
    "import pathlib\n",
    "\n",
    "print(pathlib.Path('Untitled6').parent.absolute())"
   ]
  },
  {
   "cell_type": "code",
   "execution_count": null,
   "id": "11c3d124",
   "metadata": {},
   "outputs": [],
   "source": []
  }
 ],
 "metadata": {
  "kernelspec": {
   "display_name": "Python 3 (ipykernel)",
   "language": "python",
   "name": "python3"
  },
  "language_info": {
   "codemirror_mode": {
    "name": "ipython",
    "version": 3
   },
   "file_extension": ".py",
   "mimetype": "text/x-python",
   "name": "python",
   "nbconvert_exporter": "python",
   "pygments_lexer": "ipython3",
   "version": "3.9.13"
  }
 },
 "nbformat": 4,
 "nbformat_minor": 5
}
