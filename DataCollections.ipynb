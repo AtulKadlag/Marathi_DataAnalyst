{
 "cells": [
  {
   "cell_type": "code",
   "execution_count": null,
   "id": "3a01288a",
   "metadata": {},
   "outputs": [],
   "source": [
    "#List is a collection which is ordered and changeable. Allows duplicate members.\n",
    "#Tuple is a collection which is ordered and unchangeable. Allows duplicate members.\n",
    "#Set is a collection which is unordered, unchangeable*, and unindexed. No duplicate members.\n",
    "#Dictionary is a collection which is ordered** and changeable. No duplicate members.( key:value)\n",
    "\n",
    "#if else conditional statements "
   ]
  },
  {
   "cell_type": "code",
   "execution_count": 4,
   "id": "4a990446",
   "metadata": {},
   "outputs": [],
   "source": [
    " firstset = {\"apple\", \"banana\", \"cherry\",'jackfruit'}"
   ]
  },
  {
   "cell_type": "code",
   "execution_count": 5,
   "id": "8d1c332b",
   "metadata": {},
   "outputs": [
    {
     "data": {
      "text/plain": [
       "{'apple', 'banana', 'cherry', 'jackfruit'}"
      ]
     },
     "execution_count": 5,
     "metadata": {},
     "output_type": "execute_result"
    }
   ],
   "source": [
    "firstset"
   ]
  },
  {
   "cell_type": "code",
   "execution_count": 6,
   "id": "05c91c62",
   "metadata": {},
   "outputs": [
    {
     "name": "stdout",
     "output_type": "stream",
     "text": [
      "{'banana', 'apple', 'cherry', 'jackfruit'}\n"
     ]
    }
   ],
   "source": [
    "print(firstset)"
   ]
  },
  {
   "cell_type": "code",
   "execution_count": 11,
   "id": "fad1cacd",
   "metadata": {},
   "outputs": [
    {
     "name": "stdout",
     "output_type": "stream",
     "text": [
      "True\n"
     ]
    }
   ],
   "source": [
    "print ('apple' in firstset)"
   ]
  },
  {
   "cell_type": "code",
   "execution_count": 12,
   "id": "5a29a316",
   "metadata": {},
   "outputs": [],
   "source": [
    "firstset.add(\"pineapple\")"
   ]
  },
  {
   "cell_type": "code",
   "execution_count": 13,
   "id": "8d8de384",
   "metadata": {},
   "outputs": [
    {
     "data": {
      "text/plain": [
       "{'apple', 'banana', 'cherry', 'jackfruit', 'pineapple'}"
      ]
     },
     "execution_count": 13,
     "metadata": {},
     "output_type": "execute_result"
    }
   ],
   "source": [
    "firstset"
   ]
  },
  {
   "cell_type": "code",
   "execution_count": 14,
   "id": "726b5bb6",
   "metadata": {},
   "outputs": [],
   "source": [
    "firstset.remove('cherry')"
   ]
  },
  {
   "cell_type": "code",
   "execution_count": 15,
   "id": "a37ddd73",
   "metadata": {},
   "outputs": [
    {
     "data": {
      "text/plain": [
       "{'apple', 'banana', 'jackfruit', 'pineapple'}"
      ]
     },
     "execution_count": 15,
     "metadata": {},
     "output_type": "execute_result"
    }
   ],
   "source": [
    "firstset"
   ]
  },
  {
   "cell_type": "code",
   "execution_count": 16,
   "id": "4d44096c",
   "metadata": {},
   "outputs": [
    {
     "data": {
      "text/plain": [
       "['apple', 'banana', 'cherry']"
      ]
     },
     "execution_count": 16,
     "metadata": {},
     "output_type": "execute_result"
    }
   ],
   "source": [
    "#list \n",
    "firstlist = [\"apple\", \"banana\", \"cherry\"]\n",
    "firstlist"
   ]
  },
  {
   "cell_type": "code",
   "execution_count": 17,
   "id": "12ec5663",
   "metadata": {},
   "outputs": [
    {
     "name": "stdout",
     "output_type": "stream",
     "text": [
      "banana\n"
     ]
    }
   ],
   "source": [
    "print(firstlist[1])"
   ]
  },
  {
   "cell_type": "code",
   "execution_count": 18,
   "id": "4ad9187c",
   "metadata": {},
   "outputs": [
    {
     "name": "stdout",
     "output_type": "stream",
     "text": [
      "cherry\n"
     ]
    }
   ],
   "source": [
    "print(firstlist[-1])"
   ]
  },
  {
   "cell_type": "code",
   "execution_count": 19,
   "id": "75131236",
   "metadata": {},
   "outputs": [
    {
     "name": "stdout",
     "output_type": "stream",
     "text": [
      "banana\n"
     ]
    }
   ],
   "source": [
    "print(firstlist[-2])"
   ]
  },
  {
   "cell_type": "code",
   "execution_count": 20,
   "id": "4298ae13",
   "metadata": {},
   "outputs": [
    {
     "name": "stdout",
     "output_type": "stream",
     "text": [
      "apple\n"
     ]
    }
   ],
   "source": [
    "print(firstlist[0])"
   ]
  },
  {
   "cell_type": "code",
   "execution_count": 21,
   "id": "b2fd1f4b",
   "metadata": {},
   "outputs": [
    {
     "data": {
      "text/plain": [
       "['cherry']"
      ]
     },
     "execution_count": 21,
     "metadata": {},
     "output_type": "execute_result"
    }
   ],
   "source": [
    "firstlist[2:]"
   ]
  },
  {
   "cell_type": "code",
   "execution_count": 22,
   "id": "94d6abc3",
   "metadata": {},
   "outputs": [
    {
     "data": {
      "text/plain": [
       "['banana']"
      ]
     },
     "execution_count": 22,
     "metadata": {},
     "output_type": "execute_result"
    }
   ],
   "source": [
    "firstlist[1:2]"
   ]
  },
  {
   "cell_type": "code",
   "execution_count": 23,
   "id": "ddb717f0",
   "metadata": {},
   "outputs": [],
   "source": [
    "firstlist[1:2]=['watermelon','guava']"
   ]
  },
  {
   "cell_type": "code",
   "execution_count": 24,
   "id": "dc79d5c3",
   "metadata": {},
   "outputs": [
    {
     "data": {
      "text/plain": [
       "['apple', 'watermelon', 'guava', 'cherry']"
      ]
     },
     "execution_count": 24,
     "metadata": {},
     "output_type": "execute_result"
    }
   ],
   "source": [
    "firstlist"
   ]
  },
  {
   "cell_type": "code",
   "execution_count": 25,
   "id": "58e6317b",
   "metadata": {},
   "outputs": [],
   "source": [
    "firstlist[3:1]=['chickoo']"
   ]
  },
  {
   "cell_type": "code",
   "execution_count": 26,
   "id": "5026ed34",
   "metadata": {},
   "outputs": [
    {
     "data": {
      "text/plain": [
       "['apple', 'watermelon', 'guava', 'chickoo', 'cherry']"
      ]
     },
     "execution_count": 26,
     "metadata": {},
     "output_type": "execute_result"
    }
   ],
   "source": [
    "firstlist"
   ]
  },
  {
   "cell_type": "code",
   "execution_count": 27,
   "id": "c4e6689e",
   "metadata": {},
   "outputs": [],
   "source": [
    "firstlist.append('jackfruit')"
   ]
  },
  {
   "cell_type": "code",
   "execution_count": 28,
   "id": "10b32d0a",
   "metadata": {},
   "outputs": [
    {
     "data": {
      "text/plain": [
       "['apple', 'watermelon', 'guava', 'chickoo', 'cherry', 'jackfruit']"
      ]
     },
     "execution_count": 28,
     "metadata": {},
     "output_type": "execute_result"
    }
   ],
   "source": [
    "firstlist"
   ]
  },
  {
   "cell_type": "code",
   "execution_count": 29,
   "id": "37d0d6e5",
   "metadata": {},
   "outputs": [],
   "source": [
    "firstlist.insert(4,'berry')"
   ]
  },
  {
   "cell_type": "code",
   "execution_count": 30,
   "id": "778f4b19",
   "metadata": {},
   "outputs": [
    {
     "data": {
      "text/plain": [
       "['apple', 'watermelon', 'guava', 'chickoo', 'berry', 'cherry', 'jackfruit']"
      ]
     },
     "execution_count": 30,
     "metadata": {},
     "output_type": "execute_result"
    }
   ],
   "source": [
    "firstlist"
   ]
  },
  {
   "cell_type": "code",
   "execution_count": 31,
   "id": "704ebb79",
   "metadata": {},
   "outputs": [],
   "source": [
    "firstlist.remove('berry')"
   ]
  },
  {
   "cell_type": "code",
   "execution_count": 32,
   "id": "1efea993",
   "metadata": {},
   "outputs": [
    {
     "data": {
      "text/plain": [
       "['apple', 'watermelon', 'guava', 'chickoo', 'cherry', 'jackfruit']"
      ]
     },
     "execution_count": 32,
     "metadata": {},
     "output_type": "execute_result"
    }
   ],
   "source": [
    "firstlist"
   ]
  },
  {
   "cell_type": "code",
   "execution_count": 37,
   "id": "45bc319c",
   "metadata": {},
   "outputs": [
    {
     "name": "stdout",
     "output_type": "stream",
     "text": [
      "('apple', 'banana', 'cherry', 'berry')\n"
     ]
    }
   ],
   "source": [
    "#tuples\n",
    "firsttuple = (\"apple\", \"banana\", \"cherry\",\"berry\")\n",
    "print(firsttuple)"
   ]
  },
  {
   "cell_type": "code",
   "execution_count": 38,
   "id": "81084378",
   "metadata": {},
   "outputs": [
    {
     "data": {
      "text/plain": [
       "'berry'"
      ]
     },
     "execution_count": 38,
     "metadata": {},
     "output_type": "execute_result"
    }
   ],
   "source": [
    "firsttuple[3]"
   ]
  },
  {
   "cell_type": "code",
   "execution_count": 39,
   "id": "a8a0ebb1",
   "metadata": {},
   "outputs": [
    {
     "data": {
      "text/plain": [
       "'cherry'"
      ]
     },
     "execution_count": 39,
     "metadata": {},
     "output_type": "execute_result"
    }
   ],
   "source": [
    "firsttuple[-2]"
   ]
  },
  {
   "cell_type": "code",
   "execution_count": 40,
   "id": "4731bb23",
   "metadata": {},
   "outputs": [
    {
     "data": {
      "text/plain": [
       "'apple'"
      ]
     },
     "execution_count": 40,
     "metadata": {},
     "output_type": "execute_result"
    }
   ],
   "source": [
    "firsttuple[-4]"
   ]
  },
  {
   "cell_type": "code",
   "execution_count": 41,
   "id": "312329c6",
   "metadata": {},
   "outputs": [],
   "source": [
    "firsttuple = (\"apple\", \"banana\", \"cherry\", \"orange\", \"kiwi\", \"melon\", \"mango\")"
   ]
  },
  {
   "cell_type": "code",
   "execution_count": 42,
   "id": "e68c9037",
   "metadata": {},
   "outputs": [
    {
     "data": {
      "text/plain": [
       "('cherry', 'orange', 'kiwi')"
      ]
     },
     "execution_count": 42,
     "metadata": {},
     "output_type": "execute_result"
    }
   ],
   "source": [
    "firsttuple[2:5]"
   ]
  },
  {
   "cell_type": "code",
   "execution_count": 43,
   "id": "8f982b6a",
   "metadata": {},
   "outputs": [
    {
     "data": {
      "text/plain": [
       "('cherry', 'orange', 'kiwi', 'melon')"
      ]
     },
     "execution_count": 43,
     "metadata": {},
     "output_type": "execute_result"
    }
   ],
   "source": [
    "firsttuple[2:6]"
   ]
  },
  {
   "cell_type": "code",
   "execution_count": 44,
   "id": "1e153aaf",
   "metadata": {},
   "outputs": [
    {
     "data": {
      "text/plain": [
       "('apple', 'banana', 'cherry', 'orange', 'kiwi', 'melon')"
      ]
     },
     "execution_count": 44,
     "metadata": {},
     "output_type": "execute_result"
    }
   ],
   "source": [
    "firsttuple[0:6]"
   ]
  },
  {
   "cell_type": "code",
   "execution_count": 45,
   "id": "281b1847",
   "metadata": {},
   "outputs": [
    {
     "data": {
      "text/plain": [
       "('apple', 'banana', 'cherry', 'orange', 'kiwi', 'melon', 'mango')"
      ]
     },
     "execution_count": 45,
     "metadata": {},
     "output_type": "execute_result"
    }
   ],
   "source": [
    "firsttuple[0:]"
   ]
  },
  {
   "cell_type": "code",
   "execution_count": 46,
   "id": "2532e3b7",
   "metadata": {},
   "outputs": [
    {
     "data": {
      "text/plain": [
       "('apple', 'banana', 'cherry', 'orange', 'kiwi', 'melon', 'mango')"
      ]
     },
     "execution_count": 46,
     "metadata": {},
     "output_type": "execute_result"
    }
   ],
   "source": [
    "firsttuple"
   ]
  },
  {
   "cell_type": "code",
   "execution_count": 51,
   "id": "b05fc254",
   "metadata": {},
   "outputs": [],
   "source": [
    "y= list(firsttuple)"
   ]
  },
  {
   "cell_type": "code",
   "execution_count": 52,
   "id": "565c7caf",
   "metadata": {},
   "outputs": [
    {
     "name": "stdout",
     "output_type": "stream",
     "text": [
      "['apple', 'banana', 'cherry', 'orange', 'kiwi', 'melon', 'mango']\n"
     ]
    }
   ],
   "source": [
    "print(y)"
   ]
  },
  {
   "cell_type": "code",
   "execution_count": 53,
   "id": "054f75cb",
   "metadata": {},
   "outputs": [],
   "source": [
    "y[1] = \"guava\""
   ]
  },
  {
   "cell_type": "code",
   "execution_count": 54,
   "id": "986ab7a2",
   "metadata": {},
   "outputs": [
    {
     "name": "stdout",
     "output_type": "stream",
     "text": [
      "['apple', 'guava', 'cherry', 'orange', 'kiwi', 'melon', 'mango']\n"
     ]
    }
   ],
   "source": [
    "print(y)"
   ]
  },
  {
   "cell_type": "code",
   "execution_count": 55,
   "id": "8644b8bb",
   "metadata": {},
   "outputs": [],
   "source": [
    "firstuple= tuple(y)"
   ]
  },
  {
   "cell_type": "code",
   "execution_count": 56,
   "id": "76c72cff",
   "metadata": {},
   "outputs": [
    {
     "data": {
      "text/plain": [
       "('apple', 'guava', 'cherry', 'orange', 'kiwi', 'melon', 'mango')"
      ]
     },
     "execution_count": 56,
     "metadata": {},
     "output_type": "execute_result"
    }
   ],
   "source": [
    "firstuple"
   ]
  },
  {
   "cell_type": "code",
   "execution_count": 57,
   "id": "de3000a0",
   "metadata": {},
   "outputs": [
    {
     "name": "stdout",
     "output_type": "stream",
     "text": [
      "('apple', 'banana', 'cherry', 'orange', 'watermelon', 'melon', 'mango')\n"
     ]
    }
   ],
   "source": [
    "#convert tuple into list and then update the list with new record.and finally convert again the list to tuple\n",
    "y= list(firsttuple)       #converting tuple to  list\n",
    "y[4] = \"watermelon\"       #updating 1st index value  to 'watermelon'\n",
    "firstuple= tuple(y)       #converting list to tuple\n",
    "print(firstuple)          #print the tuple"
   ]
  },
  {
   "cell_type": "code",
   "execution_count": 58,
   "id": "6397f84d",
   "metadata": {},
   "outputs": [],
   "source": [
    "#dictionaries\n",
    "\n",
    "\n",
    "mydict = {\n",
    "  \"brand\": \"Ford\",\n",
    "  \"model\": \"Mustang\",\n",
    "  \"year\" : 1964\n",
    "}\n"
   ]
  },
  {
   "cell_type": "code",
   "execution_count": 59,
   "id": "ee4303bf",
   "metadata": {},
   "outputs": [
    {
     "data": {
      "text/plain": [
       "{'brand': 'Ford', 'model': 'Mustang', 'year': 1964}"
      ]
     },
     "execution_count": 59,
     "metadata": {},
     "output_type": "execute_result"
    }
   ],
   "source": [
    "mydict"
   ]
  },
  {
   "cell_type": "code",
   "execution_count": 60,
   "id": "d0e6e0b8",
   "metadata": {},
   "outputs": [
    {
     "name": "stdout",
     "output_type": "stream",
     "text": [
      "Ford\n"
     ]
    }
   ],
   "source": [
    "print(mydict['brand'])"
   ]
  },
  {
   "cell_type": "code",
   "execution_count": 61,
   "id": "a779b27e",
   "metadata": {},
   "outputs": [
    {
     "name": "stdout",
     "output_type": "stream",
     "text": [
      "1964\n"
     ]
    }
   ],
   "source": [
    "print(mydict['year'])"
   ]
  },
  {
   "cell_type": "code",
   "execution_count": 62,
   "id": "8c5d4d58",
   "metadata": {},
   "outputs": [],
   "source": [
    "mydict['color'] ='red'"
   ]
  },
  {
   "cell_type": "code",
   "execution_count": 63,
   "id": "d68e389f",
   "metadata": {},
   "outputs": [
    {
     "data": {
      "text/plain": [
       "{'brand': 'Ford', 'model': 'Mustang', 'year': 1964, 'color': 'red'}"
      ]
     },
     "execution_count": 63,
     "metadata": {},
     "output_type": "execute_result"
    }
   ],
   "source": [
    "mydict"
   ]
  },
  {
   "cell_type": "code",
   "execution_count": 64,
   "id": "46125fe4",
   "metadata": {},
   "outputs": [],
   "source": [
    "mydict.update({'color':'green'})"
   ]
  },
  {
   "cell_type": "code",
   "execution_count": 65,
   "id": "fd9cfba6",
   "metadata": {},
   "outputs": [
    {
     "data": {
      "text/plain": [
       "{'brand': 'Ford', 'model': 'Mustang', 'year': 1964, 'color': 'green'}"
      ]
     },
     "execution_count": 65,
     "metadata": {},
     "output_type": "execute_result"
    }
   ],
   "source": [
    "mydict"
   ]
  },
  {
   "cell_type": "code",
   "execution_count": 67,
   "id": "ed03df32",
   "metadata": {},
   "outputs": [],
   "source": [
    "mydict.update({'colors':'red'})"
   ]
  },
  {
   "cell_type": "code",
   "execution_count": 68,
   "id": "def4acb8",
   "metadata": {},
   "outputs": [
    {
     "data": {
      "text/plain": [
       "{'brand': 'Ford',\n",
       " 'model': 'Mustang',\n",
       " 'year': 1964,\n",
       " 'color': 'green',\n",
       " 'colors': 'red'}"
      ]
     },
     "execution_count": 68,
     "metadata": {},
     "output_type": "execute_result"
    }
   ],
   "source": [
    "mydict"
   ]
  },
  {
   "cell_type": "code",
   "execution_count": 69,
   "id": "64e2f12f",
   "metadata": {},
   "outputs": [
    {
     "data": {
      "text/plain": [
       "('colors', 'red')"
      ]
     },
     "execution_count": 69,
     "metadata": {},
     "output_type": "execute_result"
    }
   ],
   "source": [
    "mydict.popitem()"
   ]
  },
  {
   "cell_type": "code",
   "execution_count": 70,
   "id": "6866cd6d",
   "metadata": {},
   "outputs": [
    {
     "data": {
      "text/plain": [
       "{'brand': 'Ford', 'model': 'Mustang', 'year': 1964, 'color': 'green'}"
      ]
     },
     "execution_count": 70,
     "metadata": {},
     "output_type": "execute_result"
    }
   ],
   "source": [
    "mydict"
   ]
  },
  {
   "cell_type": "code",
   "execution_count": 71,
   "id": "23f57402",
   "metadata": {},
   "outputs": [],
   "source": [
    "del mydict[\"model\"]"
   ]
  },
  {
   "cell_type": "code",
   "execution_count": 72,
   "id": "31fa971f",
   "metadata": {},
   "outputs": [
    {
     "data": {
      "text/plain": [
       "{'brand': 'Ford', 'year': 1964, 'color': 'green'}"
      ]
     },
     "execution_count": 72,
     "metadata": {},
     "output_type": "execute_result"
    }
   ],
   "source": [
    "mydict"
   ]
  },
  {
   "cell_type": "code",
   "execution_count": 83,
   "id": "8244e184",
   "metadata": {},
   "outputs": [
    {
     "name": "stdout",
     "output_type": "stream",
     "text": [
      "10 is greater than 15\n",
      "50\n"
     ]
    }
   ],
   "source": [
    "if 10 > 5 :\n",
    "    print ('10 is greater than 15')\n",
    "    b =10*5\n",
    "    print(b)\n",
    "else:\n",
    "    print('10 is not greater than 15')\n",
    "    "
   ]
  },
  {
   "cell_type": "code",
   "execution_count": 82,
   "id": "efc06a61",
   "metadata": {},
   "outputs": [
    {
     "name": "stdout",
     "output_type": "stream",
     "text": [
      "a and b are equal\n"
     ]
    }
   ],
   "source": [
    "#if else\n",
    "\n",
    "\n",
    "\n",
    "a = 33\n",
    "b = 33\n",
    "if b > a :\n",
    "  print(\"b is greater than a\")\n",
    "elif a == b:\n",
    "  print(\"a and b are equal\")\n",
    "else:\n",
    "  print(\"a is greater than b\")"
   ]
  },
  {
   "cell_type": "code",
   "execution_count": null,
   "id": "5950b276",
   "metadata": {},
   "outputs": [],
   "source": []
  }
 ],
 "metadata": {
  "kernelspec": {
   "display_name": "Python 3 (ipykernel)",
   "language": "python",
   "name": "python3"
  },
  "language_info": {
   "codemirror_mode": {
    "name": "ipython",
    "version": 3
   },
   "file_extension": ".py",
   "mimetype": "text/x-python",
   "name": "python",
   "nbconvert_exporter": "python",
   "pygments_lexer": "ipython3",
   "version": "3.9.13"
  }
 },
 "nbformat": 4,
 "nbformat_minor": 5
}
