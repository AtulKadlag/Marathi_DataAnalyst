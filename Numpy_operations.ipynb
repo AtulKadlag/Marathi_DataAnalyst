{
 "cells": [
  {
   "cell_type": "code",
   "execution_count": 5,
   "id": "41674279",
   "metadata": {},
   "outputs": [
    {
     "name": "stdout",
     "output_type": "stream",
     "text": [
      "first array \n",
      "  [1 2 3]\n",
      "second array \n",
      "  [4 5 6]\n",
      "a + b = [5 7 9]\n",
      "a * b = [ 4 10 18]\n"
     ]
    }
   ],
   "source": [
    "#basic Array operations\n",
    "import numpy as np\n",
    "\n",
    "\n",
    "# Create two arrays\n",
    "a = np.array([1, 2, 3])\n",
    "b = np.array([4, 5, 6])\n",
    "\n",
    "print ('first array \\n ',  a)\n",
    "print ('second array \\n ',  b)\n",
    "\n",
    "\n",
    "# Basic operations\n",
    "print(\"a + b =\", a + b)\n",
    "print(\"a * b =\", a * b)\n"
   ]
  },
  {
   "cell_type": "code",
   "execution_count": 15,
   "id": "e258c355",
   "metadata": {},
   "outputs": [
    {
     "name": "stdout",
     "output_type": "stream",
     "text": [
      "[[1 2 3]\n",
      " [4 5 6]\n",
      " [7 8 9]]\n",
      "Element at row 2, column 2: 5\n",
      "First two rows:\n",
      " [[1 2 3]\n",
      " [4 5 6]]\n",
      "Second column:\n",
      " [2 5 8]\n",
      "slicing with step \n",
      " [2 3 4 5]\n"
     ]
    }
   ],
   "source": [
    "#Array Indexing and Slicing\n",
    "\n",
    "\n",
    "# Create a 2D array\n",
    "arr = np.array([[1, 2, 3], [4, 5, 6], [7, 8, 9]])\n",
    "print(arr)\n",
    "\n",
    "\n",
    "# Accessing elements\n",
    "print(\"Element at row 2, column 2:\", arr[1, 1])\n",
    "\n",
    "# Slicing\n",
    "print(\"First two rows:\\n\", arr[:2])\n",
    "print(\"Second column:\\n\", arr[:, 1])\n",
    "\n",
    "#Slicing syntax array[start:stop:step].\n",
    "\n",
    "\n",
    "#slicing array with step\n",
    "arr = np.array([1, 2, 3, 4, 5, 6, 7])\n",
    "\n",
    "print('slicing with step \\n',arr[1:5:1])\n",
    "\n"
   ]
  },
  {
   "cell_type": "code",
   "execution_count": null,
   "id": "0f71346a",
   "metadata": {},
   "outputs": [],
   "source": [
    "#Broadcasting and Vectorization\n",
    "\n",
    "a = np.array([1, 2, 3])\n",
    "b = np.array([1])\n",
    "\n",
    "print(\"a + b =\", a + b)  # Broadcasting\n",
    "print(\"a + b =\", a / b)  # Broadcasting\n"
   ]
  },
  {
   "cell_type": "code",
   "execution_count": 28,
   "id": "872edd92",
   "metadata": {},
   "outputs": [
    {
     "name": "stdout",
     "output_type": "stream",
     "text": [
      "Original array:\n",
      " [[21 29 21 26 25 26 20 23]\n",
      " [29 20 27 23 22 28 23 20]\n",
      " [27 25 27 22 20 27 29 26]\n",
      " [20 27 23 28 22 21 22 28]\n",
      " [28 29 25 21 22 27 28 25]\n",
      " [27 24 23 25 28 29 21 25]\n",
      " [24 27 26 23 24 20 26 27]\n",
      " [25 22 26 21 24 22 20 21]]\n",
      "Array mean: 24.40625\n",
      "Sum of all elements: 1562\n",
      "Maximum element: 29\n"
     ]
    }
   ],
   "source": [
    "#functions & Aggregations\n",
    "arr = np.random.randint(20, 30, size=(8, 8))  # 5x5 array of random integers\n",
    "\n",
    "print(\"Original array:\\n\", arr)\n",
    "print(\"Array mean:\", np.mean(arr))\n",
    "print(\"Sum of all elements:\", np.sum(arr))\n",
    "print(\"Maximum element:\", np.max(arr))\n"
   ]
  },
  {
   "cell_type": "code",
   "execution_count": 30,
   "id": "3757f758",
   "metadata": {},
   "outputs": [
    {
     "name": "stdout",
     "output_type": "stream",
     "text": [
      "Elements greater than 3: [3 4 5]\n"
     ]
    }
   ],
   "source": [
    "#boolean indexing and Masking\n",
    "\n",
    "arr = np.array([1, 2, 3, 4, 5])\n",
    "\n",
    "# Boolean mask\n",
    "mask = arr > 2\n",
    "print(\"Elements greater than 3:\", arr[mask])\n"
   ]
  },
  {
   "cell_type": "code",
   "execution_count": 34,
   "id": "cbc5f353",
   "metadata": {},
   "outputs": [
    {
     "name": "stdout",
     "output_type": "stream",
     "text": [
      "A Array is \n",
      " [[1 2]\n",
      " [3 4]]\n",
      "B Array is \n",
      " [[5 6]\n",
      " [7 8]]\n",
      "Dot product:\n",
      " [[19 22]\n",
      " [43 50]]\n",
      "Matrix multiplication:\n",
      " [[19 22]\n",
      " [43 50]]\n",
      "Matrix multiplication:\n",
      " [[19 22]\n",
      " [43 50]]\n"
     ]
    }
   ],
   "source": [
    "#linear Algebra operations\n",
    "\n",
    "\n",
    "# Matrix multiplication\n",
    "A = np.array([[1, 2], [3, 4]])\n",
    "B = np.array([[5, 6], [7, 8]])\n",
    "print('A Array is \\n',A)\n",
    "print('B Array is \\n',B)\n",
    "\n",
    "print(\"Dot product:\\n\", np.dot(A, B))\n",
    "print(\"Matrix multiplication:\\n\", A @ B)  \n",
    "print(\"Matrix multiplication:\\n\", np.matmul(A,B))\n",
    "\n",
    "\n"
   ]
  },
  {
   "cell_type": "code",
   "execution_count": null,
   "id": "313dfde0",
   "metadata": {},
   "outputs": [],
   "source": []
  }
 ],
 "metadata": {
  "kernelspec": {
   "display_name": "Python 3 (ipykernel)",
   "language": "python",
   "name": "python3"
  },
  "language_info": {
   "codemirror_mode": {
    "name": "ipython",
    "version": 3
   },
   "file_extension": ".py",
   "mimetype": "text/x-python",
   "name": "python",
   "nbconvert_exporter": "python",
   "pygments_lexer": "ipython3",
   "version": "3.9.13"
  }
 },
 "nbformat": 4,
 "nbformat_minor": 5
}
